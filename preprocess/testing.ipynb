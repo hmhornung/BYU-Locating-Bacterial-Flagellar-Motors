{
 "cells": [
  {
   "cell_type": "code",
   "execution_count": null,
   "metadata": {},
   "outputs": [],
   "source": [
    "import torch\n",
    "import monai\n",
    "import dataloader\n",
    "import os\n",
    "import pandas as pd\n",
    "import numpy as np\n",
    "from torch.utils.data import DataLoader\n",
    "from sklearn.model_selection import train_test_split\n"
   ]
  },
  {
   "cell_type": "code",
   "execution_count": null,
   "metadata": {},
   "outputs": [],
   "source": [
    "data_path = '../data/hm30rad/'\n",
    "df = pd.read_csv('../data/train_labels.csv')\n",
    "names = df['tomo_id'].astype(str).unique().tolist()"
   ]
  },
  {
   "cell_type": "code",
   "execution_count": null,
   "metadata": {},
   "outputs": [],
   "source": [
    "train_names, val_names = train_test_split(names, test_size=0.2)\n",
    "\n",
    "train_dataset = dataloader.MMapDataset(names=train_names, path=data_path, gpu=True)\n",
    "val_dataset = dataloader.MMapDataset(names=val_names, path=data_path, gpu=True)\n",
    "\n",
    "train_loader = DataLoader(train_dataset, batch_size=16, collate_fn=dataloader.custom_collate, shuffle=True) # can put data aug in collate func later to have optional aug\n",
    "val_loader = DataLoader(val_dataset, batch_size=16, collate_fn=dataloader.custom_collate, shuffle=False)"
   ]
  },
  {
   "cell_type": "code",
   "execution_count": null,
   "metadata": {},
   "outputs": [],
   "source": [
    "# model = YourModel().to(device)\n",
    "# optimizer = torch.optim.Adam(model.parameters(), lr=1e-4)\n",
    "# criterion = torch.nn.CrossEntropyLoss()\n",
    "device = torch.device('cuda' if torch.cuda.is_available() else 'cpu')\n",
    "\n",
    "for epoch in range(10):\n",
    "    # model.train()\n",
    "    i=0\n",
    "    for batch in dataloader:\n",
    "        src, tgt = batch['src'].to(device), batch['tgt'].to(device)\n",
    "        print(f'batch {i} done')\n",
    "        i += 1\n",
    "        # optimizer.zero_grad()\n",
    "        # outputs = model(inputs)\n",
    "        # loss = criterion(outputs, targets)\n",
    "        \n",
    "        # loss.backward()\n",
    "        # optimizer.step()\n",
    "        \n",
    "        # print(f\"Epoch {epoch}, Loss: {loss.item()}\")\n",
    "    \n",
    "    # model.eval()\n",
    "    with torch.no_grad():\n",
    "        val_loss = 0.0\n",
    "        for batch in dataloader:\n",
    "            inputs, targets = batch['src'].to(device), batch['tgt'].to(device)\n",
    "        #     outputs = model(inputs)\n",
    "        #     loss = criterion(outputs, targets)\n",
    "        #     val_loss += loss.item()\n",
    "        # print(f\"Validation Loss: {val_loss / len(dataloader)}\")"
   ]
  }
 ],
 "metadata": {
  "kernelspec": {
   "display_name": "Python 3",
   "language": "python",
   "name": "python3"
  },
  "language_info": {
   "codemirror_mode": {
    "name": "ipython",
    "version": 3
   },
   "file_extension": ".py",
   "mimetype": "text/x-python",
   "name": "python",
   "nbconvert_exporter": "python",
   "pygments_lexer": "ipython3",
   "version": "3.10.6"
  }
 },
 "nbformat": 4,
 "nbformat_minor": 2
}
