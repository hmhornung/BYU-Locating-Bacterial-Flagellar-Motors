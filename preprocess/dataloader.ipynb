{
 "cells": [
  {
   "cell_type": "code",
   "execution_count": null,
   "metadata": {},
   "outputs": [],
   "source": [
    "import numpy as np\n",
    "import os\n",
    "import torch\n",
    "import os\n",
    "import augment\n",
    "import torch.utils.data.dataset as dataset"
   ]
  },
  {
   "cell_type": "code",
   "execution_count": null,
   "metadata": {},
   "outputs": [],
   "source": [
    "#temporary definitions\n",
    "def init(self, path):\n",
    "    '''\n",
    "    memory mapped (add memory map functionality to torch file load)\n",
    "    '''\n",
    "    src_dir = os.path.join(path,'src/')\n",
    "    tgt_dir = os.path.join(path,'tgt/')\n",
    "    self.names = os.listdir(os.path.join(path,'src/'))\n",
    "    self.samples = [{\n",
    "        'src': torch.from_file(os.path.join(src_dir, name + '.pt')),\n",
    "        'tgt': torch.from_file(os.path.join(tgt_dir, name + '.pt'))\n",
    "        } for name in self.names]\n",
    "def get_item(self=0, index=0):\n",
    "    sample = augment.rand_aug(\n",
    "        sample=self.samples[index],\n",
    "        aug_params=self.aug_params,\n",
    "        gpu=True\n",
    "        )\n",
    "    return sample"
   ]
  }
 ],
 "metadata": {
  "kernelspec": {
   "display_name": "Python 3",
   "language": "python",
   "name": "python3"
  },
  "language_info": {
   "codemirror_mode": {
    "name": "ipython",
    "version": 3
   },
   "file_extension": ".py",
   "mimetype": "text/x-python",
   "name": "python",
   "nbconvert_exporter": "python",
   "pygments_lexer": "ipython3",
   "version": "3.10.6"
  }
 },
 "nbformat": 4,
 "nbformat_minor": 2
}
