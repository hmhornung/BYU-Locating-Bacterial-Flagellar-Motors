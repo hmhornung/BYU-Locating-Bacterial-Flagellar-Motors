{
 "cells": [
  {
   "cell_type": "code",
   "execution_count": 12,
   "metadata": {},
   "outputs": [],
   "source": [
    "import numpy as np\n",
    "import os\n",
    "from PIL import Image"
   ]
  },
  {
   "cell_type": "code",
   "execution_count": 13,
   "metadata": {},
   "outputs": [],
   "source": [
    "root_dir = '..'\n",
    "load_dir = 'data/train'\n",
    "data_path = os.path.join(root_dir,load_dir)\n",
    "tomograms = os.listdir(data_path)"
   ]
  },
  {
   "cell_type": "code",
   "execution_count": 18,
   "metadata": {},
   "outputs": [],
   "source": [
    "#Function for loading one tomogram\n",
    "def load_tomo(path):\n",
    "    jpgs = os.listdir(path)\n",
    "    slices = []\n",
    "    for jpg in jpgs:\n",
    "        slices.append(Image.open(os.path.join(path,jpg)))\n",
    "    return np.stack(slices)\n",
    "\n",
    "#Get shapes of all tomograms\n",
    "def get_shapes(path):\n",
    "    tomos = os.listdir(path)\n",
    "    shapes = []\n",
    "    for tomo in tomos:\n",
    "        slices = os.listdir(os.path.join(path,tomo))\n",
    "        slice_shape = np.array(Image.open(os.path.join(path,tomo,slices[0]))).shape\n",
    "        depth = len(slices)\n",
    "        shapes.append([depth,slice_shape[0],slice_shape[1]])\n",
    "    return shapes\n"
   ]
  },
  {
   "cell_type": "code",
   "execution_count": null,
   "metadata": {},
   "outputs": [],
   "source": [
    "tomogram = os.path.join(data_path,tomograms[0])\n",
    "tomo = load_tomo(tomogram)\n",
    "tomo.shape"
   ]
  },
  {
   "cell_type": "code",
   "execution_count": 19,
   "metadata": {},
   "outputs": [],
   "source": [
    "shapes = get_shapes(data_path)"
   ]
  },
  {
   "cell_type": "code",
   "execution_count": null,
   "metadata": {},
   "outputs": [],
   "source": [
    "shapes"
   ]
  }
 ],
 "metadata": {
  "kernelspec": {
   "display_name": "Python 3",
   "language": "python",
   "name": "python3"
  },
  "language_info": {
   "codemirror_mode": {
    "name": "ipython",
    "version": 3
   },
   "file_extension": ".py",
   "mimetype": "text/x-python",
   "name": "python",
   "nbconvert_exporter": "python",
   "pygments_lexer": "ipython3",
   "version": "3.10.6"
  }
 },
 "nbformat": 4,
 "nbformat_minor": 2
}
