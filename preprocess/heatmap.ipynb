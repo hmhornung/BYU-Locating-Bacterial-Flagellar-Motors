{
 "cells": [
  {
   "cell_type": "code",
   "execution_count": 1,
   "metadata": {},
   "outputs": [
    {
     "name": "stderr",
     "output_type": "stream",
     "text": [
      "Matplotlib is building the font cache; this may take a moment.\n"
     ]
    }
   ],
   "source": [
    "import numpy as np\n",
    "import os\n",
    "import monai\n",
    "import pandas as pd\n",
    "import napari\n",
    "import matplotlib as plt\n",
    "from ipywidgets import interact\n",
    "%matplotlib inline"
   ]
  },
  {
   "cell_type": "code",
   "execution_count": 2,
   "metadata": {},
   "outputs": [],
   "source": [
    "root_dir = '..'\n",
    "load_dir = 'data/train_labels.csv'\n",
    "data_path = os.path.join(root_dir,load_dir)\n",
    "labels = pd.read_csv(data_path)"
   ]
  },
  {
   "cell_type": "code",
   "execution_count": 3,
   "metadata": {},
   "outputs": [],
   "source": [
    "def gaussian_heatmap(shape, points, radii):\n",
    "    \"\"\"\n",
    "    Create a 3D Gaussian heatmap.\n",
    "\n",
    "    Parameters:\n",
    "    shape (tuple): Shape of the heatmap (D, H, W)\n",
    "    points (list): List of (x, y, z) coordinates for the Gaussians\n",
    "    radii (list or float): List of radii or single radius value for all points\n",
    "\n",
    "    Returns:\n",
    "    numpy.ndarray: 3D heatmap with Gaussian distributions\n",
    "    \"\"\"\n",
    "    if isinstance(radii, (int, float)):\n",
    "        radii = [radii] * len(points)\n",
    "\n",
    "    D, H, W = shape\n",
    "    z, y, x = np.meshgrid(np.arange(D), np.arange(H), np.arange(W), indexing='ij')\n",
    "    heatmap = np.zeros(shape, dtype=np.float32)\n",
    "\n",
    "    for (px, py, pz), radius in zip(points, radii):\n",
    "        sigma = radius / 3.0\n",
    "        gaussian = np.exp(-((x - px)**2 + (y - py)**2 + (z - pz)**2) / (2 * sigma**2))\n",
    "        heatmap = np.maximum(heatmap, gaussian)\n",
    "\n",
    "    return heatmap"
   ]
  },
  {
   "cell_type": "code",
   "execution_count": null,
   "metadata": {},
   "outputs": [],
   "source": [
    "heatmap = gaussian_heatmap((300,959,928), [[169,546,603]], 40 )"
   ]
  },
  {
   "cell_type": "code",
   "execution_count": 5,
   "metadata": {},
   "outputs": [],
   "source": [
    "subset = heatmap[100:200,500:600,550:650]\n"
   ]
  },
  {
   "cell_type": "code",
   "execution_count": null,
   "metadata": {},
   "outputs": [],
   "source": [
    "from matplotlib.widgets import Slider\n",
    "\n",
    "def visualize_volume(volume):\n",
    "    D, H, W = volume.shape\n",
    "\n",
    "    fig, axs = plt.subplots(1, 3, figsize=(15, 5))\n",
    "    plt.subplots_adjust(bottom=0.25)\n",
    "\n",
    "    img_xy = axs[0].imshow(volume[D // 2], cmap='hot')\n",
    "    axs[0].set_title(f\"Axial Slice {D // 2}\")\n",
    "\n",
    "    img_xz = axs[1].imshow(volume[:, H // 2, :], cmap='hot')\n",
    "    axs[1].set_title(f\"Coronal Slice {H // 2}\")\n",
    "\n",
    "    img_yz = axs[2].imshow(volume[:, :, W // 2], cmap='hot')\n",
    "    axs[2].set_title(f\"Sagittal Slice {W // 2}\")\n",
    "\n",
    "    ax_slider_xy = plt.axes([0.2, 0.1, 0.2, 0.03])\n",
    "    slider_xy = Slider(ax_slider_xy, 'Axial', 0, D-1, valinit=D // 2, valstep=1)\n",
    "\n",
    "    ax_slider_xz = plt.axes([0.45, 0.1, 0.2, 0.03])\n",
    "    slider_xz = Slider(ax_slider_xz, 'Coronal', 0, H-1, valinit=H // 2, valstep=1)\n",
    "\n",
    "    ax_slider_yz = plt.axes([0.7, 0.1, 0.2, 0.03])\n",
    "    slider_yz = Slider(ax_slider_yz, 'Sagittal', 0, W-1, valinit=W // 2, valstep=1)\n",
    "\n",
    "    def update_xy(val):\n",
    "        slice_idx = int(slider_xy.val)\n",
    "        img_xy.set_data(volume[slice_idx])\n",
    "        axs[0].set_title(f\"Axial Slice {slice_idx}\")\n",
    "        fig.canvas.draw_idle()\n",
    "\n",
    "    def update_xz(val):\n",
    "        slice_idx = int(slider_xz.val)\n",
    "        img_xz.set_data(volume[:, slice_idx, :])\n",
    "        axs[1].set_title(f\"Coronal Slice {slice_idx}\")\n",
    "        fig.canvas.draw_idle()\n",
    "\n",
    "    def update_yz(val):\n",
    "        slice_idx = int(slider_yz.val)\n",
    "        img_yz.set_data(volume[:, :, slice_idx])\n",
    "        axs[2].set_title(f\"Sagittal Slice {slice_idx}\")\n",
    "        fig.canvas.draw_idle()\n",
    "\n",
    "    slider_xy.on_changed(update_xy)\n",
    "    slider_xz.on_changed(update_xz)\n",
    "    slider_yz.on_changed(update_yz)\n",
    "\n",
    "    plt.show()"
   ]
  },
  {
   "cell_type": "code",
   "execution_count": 10,
   "metadata": {},
   "outputs": [
    {
     "ename": "TypeError",
     "evalue": "'module' object is not callable",
     "output_type": "error",
     "traceback": [
      "\u001b[1;31m---------------------------------------------------------------------------\u001b[0m",
      "\u001b[1;31mTypeError\u001b[0m                                 Traceback (most recent call last)",
      "Input \u001b[1;32mIn [10]\u001b[0m, in \u001b[0;36m<cell line: 1>\u001b[1;34m()\u001b[0m\n\u001b[1;32m----> 1\u001b[0m \u001b[43mvisualize_volume\u001b[49m\u001b[43m(\u001b[49m\u001b[43msubset\u001b[49m\u001b[43m)\u001b[49m\n",
      "Input \u001b[1;32mIn [9]\u001b[0m, in \u001b[0;36mvisualize_volume\u001b[1;34m(volume)\u001b[0m\n\u001b[0;32m      3\u001b[0m \u001b[38;5;28;01mdef\u001b[39;00m\u001b[38;5;250m \u001b[39m\u001b[38;5;21mvisualize_volume\u001b[39m(volume):\n\u001b[0;32m      4\u001b[0m     D, H, W \u001b[38;5;241m=\u001b[39m volume\u001b[38;5;241m.\u001b[39mshape\n\u001b[1;32m----> 6\u001b[0m     fig, axs \u001b[38;5;241m=\u001b[39m \u001b[43mplt\u001b[49m\u001b[38;5;241;43m.\u001b[39;49m\u001b[43mfigure\u001b[49m\u001b[43m(\u001b[49m\u001b[43m)\u001b[49m\u001b[38;5;241m.\u001b[39msubplots(\u001b[38;5;241m1\u001b[39m, \u001b[38;5;241m3\u001b[39m, figsize\u001b[38;5;241m=\u001b[39m(\u001b[38;5;241m15\u001b[39m, \u001b[38;5;241m5\u001b[39m))\n\u001b[0;32m      7\u001b[0m     plt\u001b[38;5;241m.\u001b[39mfigure()\u001b[38;5;241m.\u001b[39msubplots_adjust(bottom\u001b[38;5;241m=\u001b[39m\u001b[38;5;241m0.25\u001b[39m)\n\u001b[0;32m      9\u001b[0m     img_xy \u001b[38;5;241m=\u001b[39m axs[\u001b[38;5;241m0\u001b[39m]\u001b[38;5;241m.\u001b[39mimshow(volume[D \u001b[38;5;241m/\u001b[39m\u001b[38;5;241m/\u001b[39m \u001b[38;5;241m2\u001b[39m], cmap\u001b[38;5;241m=\u001b[39m\u001b[38;5;124m'\u001b[39m\u001b[38;5;124mhot\u001b[39m\u001b[38;5;124m'\u001b[39m)\n",
      "\u001b[1;31mTypeError\u001b[0m: 'module' object is not callable"
     ]
    }
   ],
   "source": [
    "visualize_volume(subset)"
   ]
  }
 ],
 "metadata": {
  "kernelspec": {
   "display_name": "Python 3",
   "language": "python",
   "name": "python3"
  },
  "language_info": {
   "codemirror_mode": {
    "name": "ipython",
    "version": 3
   },
   "file_extension": ".py",
   "mimetype": "text/x-python",
   "name": "python",
   "nbconvert_exporter": "python",
   "pygments_lexer": "ipython3",
   "version": "3.10.6"
  }
 },
 "nbformat": 4,
 "nbformat_minor": 2
}
